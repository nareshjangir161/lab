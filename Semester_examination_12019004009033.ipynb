{
  "nbformat": 4,
  "nbformat_minor": 0,
  "metadata": {
    "colab": {
      "name": "Semester-examination_12019004009033",
      "provenance": [],
      "collapsed_sections": [],
      "authorship_tag": "ABX9TyN7tfLzo45/aggcTZKXOnWu",
      "include_colab_link": true
    },
    "kernelspec": {
      "name": "python3",
      "display_name": "Python 3"
    }
  },
  "cells": [
    {
      "cell_type": "markdown",
      "metadata": {
        "id": "view-in-github",
        "colab_type": "text"
      },
      "source": [
        "<a href=\"https://colab.research.google.com/github/nareshjangir161/lab/blob/main/Semester_examination_12019004009033.ipynb\" target=\"_parent\"><img src=\"https://colab.research.google.com/assets/colab-badge.svg\" alt=\"Open In Colab\"/></a>"
      ]
    },
    {
      "cell_type": "code",
      "metadata": {
        "id": "BIPTPf3cGzFO",
        "colab": {
          "base_uri": "https://localhost:8080/"
        },
        "outputId": "bdbc5306-dcc1-475d-a55c-b3c137888f48"
      },
      "source": [
        " \n",
        "class Person(object): \n",
        " \n",
        "       \n",
        " \n",
        " \n",
        "    def __init__(self, name): \n",
        " \n",
        "        self.name = name \n",
        " \n",
        "   \n",
        " \n",
        "   \n",
        "    def getName(self): \n",
        " \n",
        "        return self.name \n",
        " \n",
        "   \n",
        " \n",
        "   \n",
        "    def isEmployee(self): \n",
        " \n",
        "        return False\n",
        " \n",
        "   \n",
        " \n",
        "   \n",
        " \n",
        "class Employee(Person): \n",
        " \n",
        "   \n",
        " \n",
        " \n",
        " \n",
        "    def isEmployee(self): \n",
        " \n",
        "        return True\n",
        " \n",
        "   \n",
        " \n",
        " \n",
        " \n",
        "emp = Person(\"rohan\") \n",
        " \n",
        "print(emp.getName(), emp.isEmployee()) \n",
        " \n",
        "   \n",
        " \n",
        "emp = Employee(\"rohaan\") \n",
        " \n",
        "print(emp.getName(), emp.isEmployee())"
      ],
      "execution_count": null,
      "outputs": [
        {
          "output_type": "stream",
          "text": [
            "rohan False\n",
            "rohaan True\n"
          ],
          "name": "stdout"
        }
      ]
    },
    {
      "cell_type": "code",
      "metadata": {
        "colab": {
          "base_uri": "https://localhost:8080/"
        },
        "id": "Z7rYJVmeN35O",
        "outputId": "040120a6-57be-48ff-f8b3-ebce44c9c9e5"
      },
      "source": [
        " \n",
        "def insertionSort(arr): \n",
        " \n",
        "  \n",
        " \n",
        "   \n",
        "    for i in range(1, len(arr)): \n",
        " \n",
        "  \n",
        " \n",
        "        key = arr[i] \n",
        " \n",
        "  \n",
        "        j = i-1\n",
        " \n",
        "        while j >=0 and key < arr[j] : \n",
        " \n",
        "                arr[j+1] = arr[j] \n",
        " \n",
        "                j -= 1\n",
        " \n",
        "        arr[j+1] = key \n",
        " \n",
        "  \n",
        " \n",
        "   \n",
        " \n",
        "arr = [12, 11, 13, 5, 6] \n",
        " \n",
        "insertionSort(arr) \n",
        " \n",
        "print (\"Sorted array is:\") \n",
        " \n",
        "for i in range(len(arr)): \n",
        " \n",
        "    print (\"%d\" %arr[i])"
      ],
      "execution_count": null,
      "outputs": [
        {
          "output_type": "stream",
          "text": [
            "Sorted array is:\n",
            "5\n",
            "6\n",
            "11\n",
            "12\n",
            "13\n"
          ],
          "name": "stdout"
        }
      ]
    },
    {
      "cell_type": "code",
      "metadata": {
        "colab": {
          "base_uri": "https://localhost:8080/"
        },
        "id": "YvwfFFilYMyA",
        "outputId": "62356b0f-e96f-43c2-828c-5008e06cd22c"
      },
      "source": [
        " \n",
        "l, u, p, d = 0, 0, 0, 0\n",
        "s = \"R@m@_f0rtu9e$\"\n",
        "if (len(s) >= 8): \n",
        "    for i in s: \n",
        "        if (i.islower()): \n",
        "            l+=1             \n",
        "        if (i.isupper()): \n",
        "            u+=1             \n",
        "        if (i.isdigit()): \n",
        "            d+=1             \n",
        "        if(i=='@'or i=='$' or i=='_'): \n",
        "            p+=1           \n",
        "if (l>=1 and u>=1 and p>=1 and d>=1 and l+p+u+d==len(s)): \n",
        "    print(\"Valid Password\") \n",
        "else: \n",
        "    print(\"Invalid Password\")"
      ],
      "execution_count": null,
      "outputs": [
        {
          "output_type": "stream",
          "text": [
            "Valid Password\n"
          ],
          "name": "stdout"
        }
      ]
    }
  ]
}